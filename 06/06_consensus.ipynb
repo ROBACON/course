{
 "cells": [
  {
   "cell_type": "markdown",
   "metadata": {},
   "source": [
    "# 6. Majority Consensus\n",
    "\n",
    "<hr>"
   ]
  },
  {
   "cell_type": "markdown",
   "metadata": {},
   "source": [
    "This lecture covers:\n",
    "\n",
    "**Concepts**\n",
    "\n",
    "- Majority consensus as amplification mechanism\n",
    "- The pairwise annihilation algorithm\n",
    "\n",
    "**Techniques**\n",
    "\n",
    "- Stochastic simulation\n",
    "- Markov-chain analysis\n",
    "\n",
    "<hr>\n",
    "\n",
    "Let's start by importing libraries we will need:"
   ]
  },
  {
   "cell_type": "code",
   "execution_count": 1,
   "metadata": {},
   "outputs": [],
   "source": [
    "# -- install --\n",
    "# uncomment if needed\n",
    "#\n",
    "# %pip install copasi-basico\n",
    "# -- end install --\n",
    "\n",
    "from basico import *\n",
    "\n",
    "# multiprocessing & progress\n",
    "import joblib\n",
    "import tqdm\n",
    "\n",
    "# numbers\n",
    "import numpy as np\n",
    "import scipy.stats as st\n",
    "\n",
    "# plotting\n",
    "import matplotlib.pyplot as plt\n",
    "figsize = (5,4)"
   ]
  },
  {
   "cell_type": "markdown",
   "metadata": {},
   "source": [
    "## Distribution of Circuits\n",
    "\n",
    "\n",
    "Current designs of synthetic bacteria face severe resource limitations: none of the circuits designed so far has more than 10 gates in a single cell.\n",
    "The most common design techniques for synthetic gates rely on gene regulation via DNA-binding proteins, nucleic acid (DNA/RNA) interactions, or more recently the CRISPR machinery, with either limited availability of orthogonal signals within the cell (DNA-binding), small dynamic range (RNA based), or reduced growth rates (the CRISPR machinery).\n",
    "This has led to recent efforts to distribute circuits among several cells to reduce the resource load per cell, taking the formative steps towards distributed bacterial circuits.\n",
    "\n",
    "The research field of distributed computing has a long history of analyzing distributed systems under harsh environmental conditions, from node and link failures, with different models of fault manifestation, to completely dynamic network architectures.\n",
    "Likewise, the field of robust circuit design has studied faults and their mitigation in VLSI circuits with great success.\n",
    "In both fields, mathematical modeling and analysis has led to provably robust solutions and insights into how different parameters influence the quality of the solution, resulting in informed design decisions for real-world implementations.\n",
    "\n",
    "We will thus look at how distribute circuits from a single cell to multiple different cell types.\n",
    "\n",
    "\n",
    "## Majority Consensus and Amplification\n",
    "\n",
    "In electrical circuits, the digital abstraction is enabled by operational amplifiers.\n",
    "In fact, every logical gate in an electrical circuit has an amplifier at its output:\n",
    "\n",
    "<div style=\"width: 500px; margin: auto;\">\n",
    "    \n",
    "<figure style=\"width: 100%; margin: auto; padding: 20px;\">\n",
    "  <img src=\"figs/Amplification.png\" alt=\"Amplification\">\n",
    "</figure>\n",
    "\n",
    "</div>\n",
    "\n",
    "Without these output amplifiers, inter-gate signals would not be clean 0-or-1 signals, but rather analog signals, invalidating the digital abstraction.\n",
    "We have seen in previous lectures that standard microbiological amplification is rather weak, with maximal Hill exponents in the order of $n\\approx 3$.\n",
    "When distributing a circuit to different bacteria types, the question of a better amplification becomes important.\n",
    "\n",
    "Mimicking the behavior an operational amplifier, we will build a *differential* amplifier.\n",
    "This circuit component amplifies the difference between the two rails of a dual-rail encoded binary signal:\n",
    "\n",
    "<div style=\"width: 800px; margin: auto;\">\n",
    "    \n",
    "<figure style=\"width: 100%; margin: auto; padding: 20px;\">\n",
    "  <img src=\"figs/DiffAmp.png\" alt=\"Differential amplification\">\n",
    "</figure>\n",
    "\n",
    "</div>\n",
    "\n",
    "Choosing the specific threshold ratio for initial concentrations of 50%, a perfect output signal is achieved when *majority consensus* is solved: \n",
    "- One of the two species is extinct (consensus).\n",
    "- Moreover, the initial majority species is not exinct (majority).\n",
    "\n",
    "The building block of a differential amplifier enables effective distribution of circuits:\n",
    "\n",
    "<div style=\"width: 800px; margin: auto;\">\n",
    "    \n",
    "<figure style=\"width: 100%; margin: auto; padding: 20px;\">\n",
    "  <img src=\"figs/Distribution.png\" alt=\"Circuit distribution\">\n",
    "</figure>\n",
    "\n",
    "</div>"
   ]
  },
  {
   "cell_type": "markdown",
   "metadata": {},
   "source": [
    "### The Pairwise Annihilation Algorithm\n",
    "\n",
    "We proposed and analyzed a particularly simple bacterial implementation of majority consensus in a [recent paper in the journal *Distributed Computing*](https://doi.org/10.1007/s00446-021-00404-8).\n",
    "This simple algorithm is the *Pairwise Annihilation* algorithm, and it does exactly what it sounds like:\n",
    "\n",
    "<div style=\"width: 200px; margin: auto;\">\n",
    "    \n",
    "<figure style=\"width: 100%; margin: auto; padding: 20px;\">\n",
    "  <img src=\"figs/PA.png\" alt=\"Pairwise annihilation\">\n",
    "</figure>\n",
    "\n",
    "</div>\n",
    "\n",
    "That is, we have two types of bacteria, and whenever they meet, they annihilate each other.\n",
    "In addition to that, each bacterium duplicates at a uniform rate $\\mu$.\n",
    "For the time being, we chose to ignore certain aspects of real bacterial systems, for example:\n",
    "- resource limitation\n",
    "- individual cell death\n",
    "- in-flow of new nutrients\n",
    "\n",
    "The \"direct\" form of communication when two bacteria meet can be implemented via conjugation.\n",
    "This is a form of horizontal gene transfer, i.e., not during cell duplication.\n",
    "We can construct the two plasmids that define the two cell types in such a way that a lethal toxin is produced if both plasmids reside inside the same cell (via a genetic circuit).\n",
    "\n",
    "<div style=\"width: 500px; margin: auto;\">\n",
    "    \n",
    "<figure style=\"width: 100%; margin: auto; padding: 20px;\">\n",
    "  <img src=\"figs/Conjugation.svg\" alt=\"Bacterial conjugation\">\n",
    "</figure>\n",
    "\n",
    "</div>"
   ]
  },
  {
   "cell_type": "markdown",
   "metadata": {},
   "source": [
    "Let us start by simulating the protocol's behavior using `basico`:"
   ]
  },
  {
   "cell_type": "code",
   "execution_count": 2,
   "metadata": {},
   "outputs": [
    {
     "name": "stderr",
     "output_type": "stream",
     "text": [
      "WARNING:root:There is no model, creating a new one\n"
     ]
    },
    {
     "data": {
      "image/png": "[encoded data removed]",
      "text/plain": [
       "<Figure size 360x288 with 1 Axes>"
      ]
     },
     "metadata": {
      "needs_background": "light"
     },
     "output_type": "display_data"
    }
   ],
   "source": [
    "def simulate_pa(A0, B0, mu=1/30, delta=5e-10, duration=60, stochastic=True):\n",
    "    model = create_datamodel()\n",
    "    \n",
    "    set_model_unit(quantity_unit='#', model=model)\n",
    "    set_model_unit(volume_unit='ul', model=model)\n",
    "    set_model_unit(time_unit='min', model=model)\n",
    "    \n",
    "    add_species('A', initial_concentration=A0, model=model)\n",
    "    add_species('B', initial_concentration=B0, model=model)\n",
    "    \n",
    "    add_reaction('A_dup', 'A -> A + A', model=model)\n",
    "    set_reaction_parameters('(A_dup).k1', value=mu, model=model)\n",
    "    add_reaction('B_dup', 'B -> B + B', model=model)\n",
    "    set_reaction_parameters('(B_dup).k1', value=mu, model=model)\n",
    "    \n",
    "    add_reaction('PA', 'A + B -> ', model=model)\n",
    "    set_reaction_parameters('(PA).k1', value=delta, model=model)\n",
    "    \n",
    "    result = run_time_course(duration=duration, model=model,\n",
    "                             method='stochastic' if stochastic \n",
    "                                     else 'deterministic')\n",
    "    \n",
    "    T = result.index\n",
    "    A = result['A'].values\n",
    "    B = result['B'].values\n",
    "    \n",
    "    return {'T': T, 'A': A, 'B': B}\n",
    "\n",
    "\n",
    "def plot_pa_over_time(T, A, B):\n",
    "    plt.figure(figsize=figsize)\n",
    "    plt.plot(T, A, label='A')\n",
    "    plt.plot(T, B, label='B')\n",
    "    plt.xlabel('time (min)')\n",
    "    plt.ylabel('count $\\mu$L${}^{-1}$')\n",
    "    plt.legend()\n",
    "    plt.show()\n",
    "    \n",
    "    \n",
    "result = simulate_pa(51, 49, mu=1.0, delta=1.0, duration=2, stochastic=False)\n",
    "plot_pa_over_time(**result)"
   ]
  },
  {
   "cell_type": "markdown",
   "metadata": {},
   "source": [
    "It turns out that the protocol is very sensitive to changes around the 50-50 initial configuration:"
   ]
  },
  {
   "cell_type": "code",
   "execution_count": 3,
   "metadata": {},
   "outputs": [
    {
     "data": {
      "image/png": "[encoded data removed]",
      "text/plain": [
       "<Figure size 360x288 with 1 Axes>"
      ]
     },
     "metadata": {
      "needs_background": "light"
     },
     "output_type": "display_data"
    },
    {
     "data": {
      "image/png": "[encoded data removed]",
      "text/plain": [
       "<Figure size 360x288 with 1 Axes>"
      ]
     },
     "metadata": {
      "needs_background": "light"
     },
     "output_type": "display_data"
    }
   ],
   "source": [
    "plot_pa_over_time(**simulate_pa(3.00000000e5, 3e5, duration=1400, stochastic=False))\n",
    "\n",
    "plot_pa_over_time(**simulate_pa(3.00000001e5, 3e5, duration=1400, stochastic=False))"
   ]
  },
  {
   "cell_type": "markdown",
   "metadata": {},
   "source": [
    "Moreover, the stochastic dynamics can be very different from the ODE dynamics:"
   ]
  },
  {
   "cell_type": "code",
   "execution_count": 4,
   "metadata": {},
   "outputs": [
    {
     "data": {
      "image/png": "[encoded data removed]",
      "text/plain": [
       "<Figure size 360x288 with 1 Axes>"
      ]
     },
     "metadata": {
      "needs_background": "light"
     },
     "output_type": "display_data"
    }
   ],
   "source": [
    "plot_pa_over_time(**simulate_pa(51, 49, mu=1.0, delta=1.0, duration=2, stochastic=True))"
   ]
  },
  {
   "cell_type": "markdown",
   "metadata": {},
   "source": [
    "It turns out that the initial majority doesn't always prevail:"
   ]
  },
  {
   "cell_type": "code",
   "execution_count": 5,
   "metadata": {},
   "outputs": [
    {
     "name": "stderr",
     "output_type": "stream",
     "text": [
      "WARNING:root:There is no model, creating a new one\n",
      "WARNING:root:There is no model, creating a new one\n",
      "WARNING:root:There is no model, creating a new one\n",
      "WARNING:root:There is no model, creating a new one\n",
      "WARNING:root:There is no model, creating a new one\n",
      "WARNING:root:There is no model, creating a new one\n",
      "WARNING:root:There is no model, creating a new one\n",
      "WARNING:root:There is no model, creating a new one\n"
     ]
    },
    {
     "name": "stdout",
     "output_type": "stream",
     "text": [
      "{'A': 0.741, 'B': 0.232, 'neither': 0.027000000000000024}\n"
     ]
    }
   ],
   "source": [
    "def fraction_won(A0, B0, reps=1000, **kwargs):\n",
    "    cnt_A_won = 0\n",
    "    cnt_B_won = 0\n",
    "    \n",
    "    results = joblib.Parallel(n_jobs=-1)(\n",
    "        joblib.delayed(simulate_pa)(A0=A0, B0=B0, stochastic=True, **kwargs) for _ in range(reps)\n",
    "    )\n",
    "        \n",
    "    for result in results:\n",
    "        if result['A'][-1] == 0 and result['B'][-1] != 0:\n",
    "            cnt_B_won += 1\n",
    "        if result['B'][-1] == 0 and result['A'][-1] != 0:\n",
    "            cnt_A_won += 1\n",
    "                        \n",
    "    return {'A': cnt_A_won/reps,\n",
    "            'B': cnt_B_won/reps,\n",
    "            'neither': 1 - (cnt_A_won+cnt_B_won)/reps}\n",
    "\n",
    "print(fraction_won(501, 499, mu=1.0, delta=1.0, duration=3))"
   ]
  },
  {
   "cell_type": "markdown",
   "metadata": {},
   "source": [
    "Let's make a sweep over different initial ratios:"
   ]
  },
  {
   "cell_type": "code",
   "execution_count": 6,
   "metadata": {},
   "outputs": [
    {
     "name": "stderr",
     "output_type": "stream",
     "text": [
      "100%|█████████████████████████████████████████| 101/101 [03:55<00:00,  2.34s/it]\n"
     ]
    }
   ],
   "source": [
    "def fraction_A_won_ratio_sweep(total_pop, **kwargs):\n",
    "    fractions = {}\n",
    "    for A0 in tqdm.tqdm(range(total_pop+1)):\n",
    "        B0 = total_pop - A0\n",
    "                \n",
    "        fractions[A0/total_pop] = fraction_won(A0, B0, **kwargs)['A']\n",
    "\n",
    "    return fractions\n",
    "\n",
    "ratio_sweep = fraction_A_won_ratio_sweep(100, reps=100, mu=1.0, delta=1.0, duration=3)"
   ]
  },
  {
   "cell_type": "code",
   "execution_count": 12,
   "metadata": {},
   "outputs": [
    {
     "data": {
      "image/png": "[encoded data removed]",
      "text/plain": [
       "<Figure size 360x288 with 1 Axes>"
      ]
     },
     "metadata": {
      "needs_background": "light"
     },
     "output_type": "display_data"
    }
   ],
   "source": [
    "plt.figure(figsize=figsize)\n",
    "plt.xlabel('$A(0)/(A(0)+B(0))$')\n",
    "plt.ylabel('fraction of $A$ wins')\n",
    "plt.plot(ratio_sweep.keys(), ratio_sweep.values())\n",
    "plt.show()"
   ]
  },
  {
   "cell_type": "markdown",
   "metadata": {},
   "source": [
    "That's a very steep amplification! Let's zoom in:"
   ]
  },
  {
   "cell_type": "code",
   "execution_count": 8,
   "metadata": {},
   "outputs": [
    {
     "name": "stderr",
     "output_type": "stream",
     "text": [
      "100%|███████████████████████████████████████████| 21/21 [01:35<00:00,  4.56s/it]\n"
     ]
    }
   ],
   "source": [
    "def fraction_A_won_diff_sweep(total_pop, max_diff, **kwargs):\n",
    "    fractions = {}\n",
    "    for A0 in tqdm.tqdm(range(total_pop//2-max_diff, total_pop//2+max_diff+1)):\n",
    "        B0 = total_pop - A0\n",
    "                \n",
    "        fractions[A0-B0] = fraction_won(A0, B0, **kwargs)['A']\n",
    "\n",
    "    return fractions\n",
    "\n",
    "diff_sweep = fraction_A_won_diff_sweep(1000, 10, reps=100, mu=1.0, delta=1.0, duration=3)"
   ]
  },
  {
   "cell_type": "code",
   "execution_count": 9,
   "metadata": {},
   "outputs": [
    {
     "data": {
      "image/png": "[encoded data removed]",
      "text/plain": [
       "<Figure size 360x288 with 1 Axes>"
      ]
     },
     "metadata": {
      "needs_background": "light"
     },
     "output_type": "display_data"
    }
   ],
   "source": [
    "plt.figure(figsize=figsize)\n",
    "plt.xlabel('$A(0) - B(0)$  [$n=1000$]')\n",
    "plt.ylabel('fraction of $A$ wins')\n",
    "plt.plot(diff_sweep.keys(), diff_sweep.values())\n",
    "plt.show()"
   ]
  },
  {
   "cell_type": "markdown",
   "metadata": {},
   "source": [
    "## Theoretical Analysis\n",
    "\n",
    "**Theorem.**\n",
    "For initial population $n = A(0) + B(0)$ and initial gap $\\Delta = \\lvert A(0)-B(0)\\rvert$,\n",
    "the Pairwise Annihilation protocol reaches consensus in expected time  $O(1)$ and in time  $O(\\log n)$ with high probability.\n",
    "It reaches majority consensus with probability\n",
    "$1 - e^{-\\Omega(\\Delta^2/n)}$.\n",
    "\n",
    "If $\\Delta = \\Omega\\left(\\sqrt{n \\log n}\\right)$, then the  Pairwise Annihilation protocol reaches majority consensus with high probability.\n",
    "\n",
    "### Birth Protocols\n",
    "\n",
    "A *protocol for a birth system*, or protocol, with input species $\\mathcal{I}$ and\n",
    "  output species $\\mathcal{O}$, for finite, not necessarily disjoint, sets $\\mathcal{I}$ and $\\mathcal{O}$\n",
    "  is a CRN specified as follows.\n",
    "Its set of species $\\mathcal{S}$ comprises input/output\n",
    "  species $\\mathcal{I} \\cup \\mathcal{O}$ and a finite set of internal species $\\mathcal{L}$.\n",
    "Further, the protocol defines the initial\n",
    "  species counts $X_0$ for internal and output species $X \\in \\mathcal{L} \\cup \\mathcal{O}$ and a\n",
    "  finite set of reactions $\\mathcal{R}$ on the species in $\\mathcal{S}$.\n",
    "For each species $X \\in \\mathcal{S}$, there is a duplication reaction of the form\n",
    "  $X \\xrightarrow{\\mu} 2X$.\n",
    "All duplication reactions have the same rate constant $\\mu>0$.\n",
    "\n",
    "Given a protocol and an initial species count for its inputs,\n",
    "an execution of the protocol is given by the stochastic process of the CRN with species $\\mathcal{S}$,\n",
    "reactions $\\mathcal{R}$, and respective initial species counts."
   ]
  },
  {
   "cell_type": "markdown",
   "metadata": {},
   "source": [
    "### Markov-Chain Model\n",
    "\n",
    "The evolution of the Pairwise Annihilation protocol is described by a continuous-time Markov chain with state space $S = \\mathbb{N}^2$.\n",
    "Its state-transition rates are:\n",
    "\\begin{equation}\n",
    "\\begin{split}\n",
    "\\qquad \\qquad \\qquad Q\\big( (A,B) \\,,\\, (A+1,B) \\big) & = \\mu A\\\\\n",
    "Q\\big( (A,B) \\,,\\, (A,B+1) \\big) & = \\mu B\\\\\n",
    "Q\\big( (A,B) \\,,\\, (A-1,B-1) \\big) & = \\delta A B\n",
    "\\end{split}\n",
    "\\end{equation}\n",
    "Note that the death transition $(A,B) \\to (A-1,B-1)$ has rate zero if $A=0$ or $B=0$.\n",
    "Both axes $\\{0\\}\\times\\mathbb{N}$ and $\\mathbb{N}\\times\\{0\\}$ are absorbing, and so is the state  $(A,B)=(0,0)$.\n",
    "This chain is regular, i.e., its sequence of transition times is unbounded with probability $1$.\n",
    "Indeed, as we will show,  the discrete-time chain reaches consensus with probability $1$, from which time on the chain is equal to a linear pure-birth process, which is regular.\n",
    "\n",
    "The corresponding discrete-time jump chain has the same state space $S=\\mathbb{N}^2$ and the state-transition probabilities\n",
    "\\begin{equation}\n",
    "\\begin{split}\n",
    "P\\big( (A,B) \\,,\\, (A+1,B) \\big) & = \\frac{\\mu A}{\\mu(A+B) + \\delta AB}\\\\\n",
    "P\\big( (A,B) \\,,\\, (A,B+1) \\big) & = \\frac{\\mu B}{\\mu(A+B) + \\delta AB}\\\\\n",
    "P\\big( (A,B) \\,,\\, (A-1,B-1) \\big) & = \\frac{\\delta AB}{\\mu(A+B) + \\delta AB}\n",
    "\\end{split}\n",
    "\\end{equation}\n",
    "if $A>0$ or $B>0$.\n",
    "The axes as well as state $(A,B)=(0,0)$ is absorbing, as in the continuous-time chain.\n",
    "\n",
    "As a convention, we will write $X(t)$ for the state of the continuous-time process $X$ at time $t$, and $X_k$ for the state of the discrete-time jump process after $k$ state transitions.\n",
    "The time to reach consensus is the earliest time $T$ such that $A(T)=0$ or $B(T)=0$.\n",
    "\n",
    "\n",
    "### Time to Reach Consensus\n",
    "\n",
    "In this section we prove the bounds on the time to reach consensus, both in expected time and with high probability.\n",
    "For that, we will employ a coupling of the  Pairwise Annihilation  protocol Markov chain with a single-species birth-death process.\n",
    "We show that the Pairwise Annihilation protocol reaches consensus when the single-species process reaches its extinction state and then bound this time in the single-species process.\n",
    "\n",
    "\n",
    "<div style=\"width: 800px; margin: auto;\">\n",
    "    \n",
    "<figure style=\"width: 100%; margin: auto; padding: 20px;\">\n",
    "  <img src=\"figs/ProofIdea.png\" alt=\"Proof structure\">\n",
    "</figure>\n",
    "\n",
    "</div>\n",
    "\n",
    "*Idea of the proof: Construction of a continuous-time coupling of the Pairwise Annihilation protocol and the single-species birth-death M chain.\n",
    "Stuttering steps are mapped to effective steps.\n",
    "An execution of the coupling process fulfills the deterministic guarantee $\\min\\{A(t),B(t)\\}\\leq M(t)$ for all times $t\\geq0$.\n",
    "From the coupling it follows that\n",
    "$\\mathbb{P}\\bigr(M(t)=0\\bigl) \\leq \\mathbb{P}\\bigr(A(t)=0 \\vee B(t)=0\\bigl)$ for the uncoupled processes.\n",
    "The time until consensus then follows from the time until extinction in the M chain.*\n",
    "\n",
    "\n",
    "We denote the single-species process by $M(t)$.\n",
    "It is a birth-death chain with state space $S=\\mathbb{N}$ and transition rates $Q(M,M+1) = \\mu M$ and $Q(M,M-1) = \\delta M^2$.\n",
    "State $0$ is absorbing.\n",
    "Note that the death rate $\\delta M^2$ depends quadratically on the current population $M$, and not linearly like the birth rate $\\mu M$.\n",
    "The reason is that we want $M(t)$ to bound the minimum of the populations $A(t)$ and $B(t)$ and that the death transition in the Pairwise Annihilation protocol is quadratic in this minimum.\n",
    "\n",
    "We will crucially use the fact that $\\mathbb{P}\\bigr(M(t)=0\\bigl) \\leq \\mathbb{P}\\bigr(A(t)=0 \\vee B(t)=0\\bigl)$ for all times $t$.\n",
    "This, together with a bound on the  time until $M(t)=0$, then gives a bound on the  time until consensus in the Pairwise Annihilation protocol chain.\n",
    "\n",
    "\n",
    "#### Continuous-time coupling \n",
    "\n",
    "The coupling is defined as follows.\n",
    "For sequences $(\\xi_k)_{k\\geq1}$ of i.i.d. (independent and identically distributed) uniform random variables in the unit interval $[0,1)$ and $(\\eta_k)_{k\\geq1}$ of i.i.d. exponential random variables with normalized rate $1$, we define the coupled process $(A(t),B(t),M(t))$ as follows.\n",
    "Initially, $M(0) = \\min\\{A(0),B(0)\\}$.\n",
    "For $k \\geq 0$, the $(k+1)$th transition happens after time $\\eta_k/\\Lambda(A_k,B_k,M_k)$ where\n",
    "$\\Lambda(A,B,M) = \\max\\{\\lambda(A,B),\\lambda(M)\\}$\n",
    "is the maximum of the sums of transition rates of the individual chains in states $(A,B)$ and $M$, respectively, i.e., $\\lambda(A,B)=\\mu(A+B)+\\delta AB$\n",
    "and\n",
    "$\\lambda(M) = \\mu M + \\delta M^2$.\n",
    "The new state $(A_{k+1},B_{k+1},M_{k+1})$ of the coupled chain is then determined by the following update rules.\n",
    "The state $(0,0,0)$ is absorbing.\n",
    "Otherwise, if $A_k \\leq B_k$, then:\n",
    "\n",
    "\\begin{equation}\n",
    "(A_{k+1},B_{k+1})=\n",
    "\\qquad \\begin{cases}\n",
    "(A_k+1,B_k) \\quad & \\text{if } \\xi_{k+1} \\in \\left[ 0 \\,,\\, \\frac{\\mu A_k}{\\Lambda(A_k,B_k,M_k)} \\right)\\\\\n",
    "(A_k,B_k+1) & \\text{if } \\xi_{k+1} \\in \\left[  \\frac{\\mu A_k}{\\Lambda(A_k,B_k,M_k)} \\,,\\, \\frac{\\mu A_k+\\mu B_k}{\\Lambda(A_k,B_k,M_k)} \\right)\\\\\n",
    "(A_k-1,B_k-1) & \\text{if } \\xi_{k+1} \\in \\left[ 1 - \\frac{\\delta A_k B_k}{\\Lambda(A_k,B_k,M_k)} \\,,\\, 1 \\right)\\\\\n",
    "(A_k,B_k) & \\text{otherwise}\n",
    "\\end{cases}\n",
    "\\end{equation}\n",
    "\n",
    "If $A_k > B_k$ then the roles of $A_k$ and $B_k$ in the above equation are exchanged.\n",
    "The update rule for $M_{k+1}$ is:\n",
    "\\begin{equation}\n",
    "M_{k+1}\n",
    "=\n",
    "\\begin{cases}\n",
    "M_k + 1 & \\text{if } \\xi_{k+1} \\in \\left[ 0 \\,,\\, \\frac{\\mu M_k}{\\Lambda(A_k,B_k,M_k)} \\right)\\\\\n",
    "M_k - 1 & \\text{if } \\xi_{k+1} \\in \\left[ 1 - \\frac{\\delta M_k^2}{\\Lambda(A_k,B_k,M_k)} \\,,\\, 1 \\right)\\\\\n",
    "M_k & \\text{otherwise}\n",
    "\\end{cases}\n",
    "\\end{equation}\n",
    "\n",
    "\n",
    "\n",
    "### Analysis for time until consensus\n",
    "\n",
    "Note that in the coupling \"stuttering steps\" for $(A_k,B_k)$ or $M_k$ are possible in the definition of the coupled process,\n",
    " making the underlying discrete-time jump chains of, e.g., chain $(A(t),B(t))$ and the Pairwise Annihilation protocol, potentially differ.\n",
    "  \n",
    "Indeed, the event $(A_{k+1},B_{k+1}) = (A_k,B_k)$ is possible with positive probability if $\\lambda(A_k,B_k) < \\lambda(M_k)$, and $M_{k+1}=M_k$ has positive probability if $\\lambda(M_k) < \\lambda(A_k,B_k)$.\n",
    "The following lemma, however, shows that the continuous-time chain $(A(t),B(t))$ and the  Pairwise Annihilation protocol chain have identical transition rates, and are thus identically distributed.\n",
    "\n",
    "\n",
    "<div style=\"width: 400px; margin: auto;\">\n",
    "    \n",
    "<figure style=\"width: 100%; margin: auto; padding: 20px;\">\n",
    "  <img src=\"figs/ContCoupling.png\" alt=\"Continuous-time coupling\">\n",
    "</figure>\n",
    "\n",
    "</div>\n",
    "\n",
    "*Continuous-time coupling of the Pairwise Annihilation (PA) chain and the single-species birth-death M-chain, given that $A_k \\leq B_k$, with $\\Lambda = \\Lambda(A_k,B_k,M_k)$. The intervals for the cases of $\\xi_{k+1}$ and their effect on the Pairwise Annihilation chain and the M-chain are shown in green and orange, respectively. Cases that lead to stuttering steps are shown in blue.*\n",
    "\n",
    "**Lemma.**\n",
    "Let $T_1,T_2,\\dots$ be a sequence of  i.i.d. exponential random variables with rate parameter $\\lambda$ and let $k$ be an independent geometric random variable with success probability $p$.\n",
    "Then $T=T_1+\\dots+T_k$\n",
    "is exponentially distributed with rate parameter $p\\lambda$.\n",
    "\n",
    "By construction of the coupled process, the single-species birth-death process $M(t)$ indeed dominates the minimum of the population counts $A(t)$ and $B(t)$ in the following way:\n",
    "\n",
    "**Lemma.**\n",
    "In the coupled process, $\\min\\{A(t),B(t)\\}\\leq M(t)$ for all times $t\\geq0$.\n",
    "\n",
    "\n",
    "The lemma allows to compare the probabilities of extinction in the single-species chain and of consensus in the  Pairwise Annihilation protocol chain:\n",
    "\n",
    "**Corollary.** $\\mathbb{P}(M(t) = 0) \\leq \\mathbb{P}(A(t) = 0 \\vee B(t) = 0)$ for all times $t\\geq 0$.\n",
    "\n",
    "It thus suffices to prove bounds on the time until the population goes extinct in the single-species M chain.\n",
    "For that, we leverage known results on birth-death processes, which are not applicable to the two-species  Pairwise Annihilation protocol chain.\n",
    "\n",
    "**Lemma.** If $T$ denotes the time until extinction in the single-species process $M(t)$, then\n",
    "$\\mathbb{E}\\,T = O(1)$.\n",
    "\n",
    "*Proof.* The birth rate in state $M(t) = i$\n",
    "is equal to $\\alpha(i) = i\\mu$ and the death rate is equal to $\\beta(i) = i^2 \\delta$.\n",
    "From known [general results on birth-death process](https://www.randomservices.org/random/markov/BirthDeath2.html) we obtain,\n",
    "when starting from initial population $M(0) = M$, that\n",
    "\\begin{equation}\n",
    "\\begin{split}\n",
    "\\mathbb{E}\\,T\n",
    "& =\n",
    "\\sum_{j=1}^M \\sum_{k=j-1}^\\infty \\frac{\\alpha(j)\\cdots \\alpha(k)}{\\beta(j)\\cdots \\beta(k)}\\cdot \\frac{1}{\\beta(k+1)}\\\\\n",
    " &=\n",
    "\\sum_{j=1}^M \\sum_{k=j-1}^\\infty \\frac{\\mu^{k-j+1}}{\\delta^{k-j+1}k!/(j-1)!}\\cdot\\frac{1}{(k+1)^2\\delta}\n",
    "\\end{split}\n",
    "\\end{equation}\n",
    "Setting $\\alpha = \\mu/\\delta$, we have\n",
    "\\begin{equation}\n",
    "\\begin{split}\n",
    "\\mathbb{E}\\,T\n",
    "& =\n",
    "\\frac{1}{\\delta}\n",
    "\\sum_{j=1}^M \\sum_{k=j-1}^\\infty\n",
    "\\alpha^{k-j+1} \n",
    "\\frac{(j-1)!}{(k+1)!(k+1)}\\\\\n",
    " &=\n",
    "\\frac{1}{\\delta}\n",
    "\\sum_{j=1}^M\n",
    "\\frac{(j-1)!}{\\alpha^{j}}\n",
    "\\sum_{k=j}^\\infty\n",
    "\\frac{\\alpha^{k}}{k!k}\n",
    "\\\\ & =\n",
    "\\frac{1}{\\delta}\n",
    "\\sum_{j=1}^M\n",
    "\\frac{(j-1)!}{\\alpha^{j}} \\cdot\n",
    "\\frac{\\alpha^{j}}{j!j}\\sum_{k=j}^\\infty\n",
    "\\frac{\\alpha^{k-j}}{k!/j! \\cdot k/j}\\\\\n",
    "&\\leq\n",
    "\\frac{1}{\\delta}\n",
    "\\sum_{j=1}^M\n",
    "\\frac{(j-1)!}{\\alpha^{j}} \\cdot\n",
    "\\frac{\\alpha^{j}}{j!j}\\sum_{k=j}^\\infty\n",
    "\\frac{\\alpha^{k-j}}{(k-j)!}\n",
    "\\end{split}\n",
    "\\end{equation}\n",
    "since for $k \\ge j \\ge 1$, it is $k!/j! \\ge (k-j)!$ and $k/j \\ge 1$.\n",
    "Thus,\n",
    "\\begin{equation}\n",
    "\\begin{split}\n",
    "\\mathbb{E}\\,T & \\leq\n",
    "\\frac{1}{\\delta}\n",
    "\\sum_{j=1}^M\n",
    "\\frac{(j-1)!}{\\alpha^{j}} \\cdot\n",
    "\\frac{\\alpha^{j}}{j!j} \\cdot\n",
    "e^{\\alpha}\\\\\n",
    "& = \n",
    "\\frac{e^{\\alpha}}{\\delta}\n",
    "\\sum_{j=1}^M \\frac{1}{j^2}\\\\\n",
    "& \\leq \\frac{e^{\\alpha}\\pi^2}{6\\delta} = \n",
    "O(1)\n",
    "\\enspace.\n",
    "\\end{split}\n",
    "\\end{equation}\n",
    "This concludes the proof.\n",
    "\n",
    "\n",
    "Denoting with $T_{AB}$ the earliest time $t$ such that $A(t)=0$ or $B(t) = 0$, and with $T_M$ the earliest time $t$ such that $M(t) = 0$, the Corollary is equivalent to the inequality\n",
    "$\\mathbb{P}(T_M \\leq t ) \\leq \\mathbb{P}(T_{AB} \\leq t)$, which, in turn, is equivalent to the inequality\n",
    "$\\mathbb{P}(T_M > t )  \\geq \\mathbb{P}(T_{AB} > t)$.\n",
    "Using the formula $\\mathbb{E}\\,T = \\int_0^\\infty \\mathbb{P}(T > t)\\, dt$, we further have\n",
    "\\begin{equation}\n",
    "\\begin{aligned}\n",
    "\\mathbb{E}\\,T_M &= \\int_0^\\infty \\mathbb{P}(T_M > t)\\, dt\n",
    "\\\\&\n",
    "\\geq \\int_0^\\infty \\mathbb{P}(T_{AB} > t)\\, dt \n",
    "= \\mathbb{E}\\,T_{AB}\\enspace.\n",
    "\\end{aligned}\n",
    "\\end{equation}\n",
    "\n",
    "This then shows that the expected time until consensus in the Pairwise Annihilation protocol is also $O(1)$.\n",
    "For the high-probability result, we simply make $\\Theta(\\log n)$ consecutive tries to achieve extinction in an interval of constant time:\n",
    "\n",
    "**Lemma.** If $T$ denotes the time until extinction in the singles-species process $M(t)$, then there exists a constant $C$ such that $\\mathbb{P}(T \\leq C\\log_2 n) = 1 - O(1/n)$.\n",
    "\n",
    "*Proof.*\n",
    "Let $C_1$ be the $O(1)$ constant for the expected value of $T$ and set $C=\\max\\{2C_1,2\\}$.\n",
    "Then, by Markov's inequality, we have \n",
    "$\\mathbb{P}(T > C) \\leq C_1/C \\leq 1/2$.\n",
    "Thus, the probability of the event $T > C\\log_2 n$ is dominated by the probability of failing $\\log_2 n$ consecutive tries with a Bernoulli random variable with parameter $p = 1/2$.\n",
    "But this probability is $2^{-\\log_2 n} = 1/n$.\n",
    "\n"
   ]
  },
  {
   "cell_type": "markdown",
   "metadata": {},
   "source": [
    "\n",
    "### Probability of Reaching Majority Consensus\n",
    "\n",
    "We now turn to the proof of the bound on the probability to achieve majority consensus.\n",
    "We use a coupling of the Pairwise Annihilation protocol chain with a different process than for the time bound.\n",
    "Namely we couple it with two parallel independent Yule processes.\n",
    "A Yule process, also known as a pure birth process, has this single state-transition rule $X\\to X+1$ with linear transition rate $\\mu X$.\n",
    "Since we already showed the upper bound on the time until consensus, it suffices to look at the discrete-time jump process.\n",
    "In particular, the coupling we define is discrete-time.\n",
    "\n",
    "#### Discrete-time coupling.\n",
    "\n",
    "For an i.i.d. sequence $(\\xi_k)_{k\\geq 1}$ of uniformly distributed random variables in the unit interval $[0,1)$, we\n",
    "define the coupling as the process $(A_k,B_k,X_k,Y_k)$ with\n",
    "$A_0=X_0$, $B_0=Y_0$\n",
    "such that $(A_{k+1},B_{k+1})$ is equal to\n",
    "\n",
    "- $(A_k-1,B_k-1)$ if $\\xi_{k+1} < \\frac{\\delta A_k B_k}{\\mu(A_k+B_k)+\\delta A_k B_k}$\n",
    "- $(A_k+1,B_k)$ if $\\xi_{k+1} \\geq \\frac{\\delta A_k B_k}{\\mu(A_k+B_k)+\\delta A_k B_k}$ and $\\xi_{k+1} < 1 -  \\frac{\\mu B_k}{\\mu(A_k+B_k)+\\delta A_k B_k}$\n",
    "- $(A_k,B_k+1)$ if $\\xi_{k+1} \\geq 1 - \\frac{\\mu B_k}{\\mu(A_k+B_k)+\\delta A_k B_k}$\n",
    "\n",
    "and $(X_{k+1},Y_{k+1})$ is equal to\n",
    "\n",
    "- $(X_k,Y_k)$ if $\\xi_{k+1} < \\frac{\\delta A_k B_k}{\\mu(A_k+B_k)+\\delta A_k B_k}$\n",
    "- $(X_k+1,Y_k)$ if $\\xi_{k+1} \\geq \\frac{\\delta A_k B_k}{\\mu(A_k+B_k)+\\delta A_k B_k}$ and $\\xi_{k+1} < 1 - \\frac{\\mu (A_k+B_k)}{\\mu(A_k+B_k)+\\delta A_k B_k} \\cdot \\frac{Y_k}{X_k+Y_k}$\n",
    "- $(X_k,Y_k+1)$ if $\\xi_{k+1} \\geq 1 - \\frac{\\mu (A_k+B_k)}{\\mu(A_k+B_k)+\\delta A_k B_k} \\cdot \\frac{Y_k}{X_k+Y_k}$\n",
    "\n",
    "if $\\max\\{A_k,B_k\\}>0$ and $\\max\\{X_k,Y_k\\}>0$.\n",
    "Otherwise the process remains constant.\n",
    "\n",
    "\n",
    "<div style=\"width: 800px; margin: auto;\">\n",
    "    \n",
    "<figure style=\"width: 100%; margin: auto; padding: 20px;\">\n",
    "  <img src=\"figs/DiscCoupling.png\" alt=\"Discrete-time coupling\">\n",
    "</figure>\n",
    "\n",
    "</div>\n",
    "\n",
    "*Discrete-time coupling of the Pairwise Annihilation (PA) chain and two Yule processes X and Y with $\\lambda(A_k,B_k) = \\gamma(A_k + B_k) + \\delta A_k B_k$. Cases for $\\xi_{k+1}$ that lead to stuttering steps are shown in blue. The interval relations indicated by the dotted lines are proven by induction.*\n",
    "\n",
    "\n",
    "#### Analysis of probability of reaching majority consensus\n",
    "\n",
    "\n",
    "The crucial property of this coupling is that the initial minority in the Pairwise Annihilation process cannot overtake the initial majority before the initial minority overtakes the initial majority in the parallel Yule processes.\n",
    "We now prove that our construction indeed has this property.\n",
    "\n",
    "**Lemma.** If $X_0 = A_0 \\geq B_0 = Y_0$ and $X_k \\geq Y_k$ for all $0\\leq k\\leq K$, then\n",
    "$X_k - Y_k \\leq A_k - B_k$ for all $0\\leq k\\leq K$.\n",
    "\n",
    "\n",
    "**Corollary.**\n",
    "If $A_0=X_0$ and $B_0=Y_0$, then\n",
    "\\begin{align*}\n",
    "\\mathbb{P}(\\exists k\\colon A_k = B_k) \\leq \\mathbb{P}(\\exists k\\colon X_k = Y_k).\n",
    "\\end{align*}\n",
    "\n",
    "\n",
    "As defined in the coupling the parallel Yule processes $(X_k,Y_k)$ can have stuttering steps where \n",
    "\\begin{align*}\\qquad \\qquad \\qquad  (X_{k+1},Y_{k+1})=(X_k,Y_k).\n",
    "\\end{align*}\n",
    "However, this happens only finitely often almost surely.\n",
    "This allows us to analyze a version of  the process $(X_k,Y_k)$ without stuttering steps in the rest of the proof.\n",
    "\n",
    "**Lemma.**\n",
    "If $(\\tilde{X}_k, \\tilde{Y}_k)$ is the product of two independent pure-birth processes with $\\tilde{X}_0 = X_0$ and $\\tilde{Y}_0 = Y_0$, then $\\mathbb{P}(\\exists k\\colon \\tilde{X}_k = \\tilde{Y}_k) = \\mathbb{P}(\\exists k \\colon X_k = Y_k)$.\n",
    "\n",
    "*Proof.*\n",
    "There are only finitely many deaths in the coupled chain almost surely.\n",
    "There are hence only finitely many stuttering steps in $(X_k,Y_k)$ almost surely.\n",
    "\n",
    "\n",
    "\n",
    "By slight abuse of notation, we will use $(X_k,Y_k)$ to refer to the parallel Yule processes without any stuttering steps.\n",
    "\n",
    "Two parallel independent Yule processes are known to be related to a beta distribution, which we will use below.\n",
    "The regularized incomplete beta function $I_z(\\alpha,\\beta)$ is defined as\n",
    "\\begin{equation}\n",
    "I_z(\\alpha,\\beta)\n",
    "=\n",
    "\\int_0^z t^{\\alpha-1} (1-t)^{\\beta-1}\\,dt\n",
    "\\ \\Big/\n",
    "\\int_0^1 t^{\\alpha-1} (1-t)^{\\beta-1}\\,dt\n",
    "\\enspace.\n",
    "\\end{equation}\n",
    "\n",
    "**Lemma.**\n",
    "If $X_0 > Y_0$,\n",
    "then\n",
    "$\\mathbb{P}\\left(\\exists k\\colon X_k = Y_k\\right) = 2\\cdot I_{1/2}(X_0,Y_0)$.\n",
    "\n",
    "*Proof.*\n",
    "The sequence of ratios $\\frac{X_k}{X_k+Y_k}$ converges with probability $1$ and the limit is distributed according to a beta distribution with parameters $\\alpha = X_0$ and $\\beta = Y_0$.\n",
    "In particular, the probability that the limit is less than $1/2$ is equal to the beta distribution's cumulative distribution function evaluated at $1/2$, i.e., equal to $I_{1/2}(X_0,Y_0)$.\n",
    "Because initially we have $X_0>Y_0$, the law of total probability gives:\n",
    "\\begin{equation}\n",
    "\\begin{aligned}\n",
    "I_{1/2}(X_0,Y_0)\n",
    "&=\n",
    "\\mathbb{P}\\left( \\lim_{k\\to\\infty} \\frac{X_k}{X_k+Y_k} < \\frac{1}{2} \\right)\n",
    "\\\\ & =\n",
    "\\mathbb{P}\\left( \\lim_{k\\to\\infty} \\frac{X_k}{X_k+Y_k} < \\frac{1}{2}  \\Big| \\exists k\\colon X_k=Y_k \\right) \\cdot \\mathbb{P}\\left( \\exists k\\colon X_k=Y_k \\right) +\n",
    "\\mathbb{P}\\left( \\lim_{k\\to\\infty} \\frac{X_k}{X_k+Y_k} < \\frac{1}{2}  \\wedge  \\forall k\\colon X_k > Y_k \\right)\n",
    "\\end{aligned}\n",
    "\\end{equation}\n",
    "Now, if $\\forall k\\colon X_k > Y_k$, then $\\lim_k \\frac{X_k}{X_k+Y_k} \\geq {1}/{2}$, which shows that the second term in the sum is zero.\n",
    "Further, under the condition $\\exists k\\colon X_k=Y_k$, it is equiprobable for the limit of $\\frac{X_k}{X_k+Y_k}$ to be larger or smaller than $1/2$ by symmetry and the strong Markov property.\n",
    "This shows that the right-hand side is equal to $\\frac{1}{2}\\cdot\\mathbb{P}\\left(\\exists k\\colon X_k = Y_k\\right)$, which concludes the proof.\n",
    "\n",
    "\n",
    "We define the event \"$B$ wins\" as $A$ eventually becoming extinct.\n",
    "Then, we have:\n",
    "\n",
    "**Lemma.** If $A_0 > B_0$, then $\\mathbb{P}\\left(\\exists k\\colon A_k = B_k\\right) = 2\\cdot \\mathbb{P}(\\text{$B$ wins})$.\n",
    "\n",
    "*Proof.* By the law of total probability, we have:\n",
    "\\begin{equation}\n",
    "\\mathbb{P}\\left( \\text{$B$ wins} \\right) = \\mathbb{P}\\left( \\text{$B$ wins} \\mid \\exists k\\colon A_k=B_k \\right) \\cdot \\mathbb{P}\\left( \\exists k\\colon A_k=B_k \\right) + \\mathbb{P}\\left( \\text{$B$ wins} \\wedge \\forall k\\colon A_k > B_k \\right)\n",
    "\\end{equation}\n",
    "If $\\forall k\\colon A_k > B_k$, then $B$ cannot win, i.e., the second term in the right-hand side of the equation is zero.\n",
    "Also, by symmetry and the strong Markov property, it is\n",
    "\\begin{align*}\n",
    "\\mathbb{P}\\left( \\text{$B$ wins} \\mid \\exists k\\colon A_k=B_k \\right)=1/2 \\enspace.\n",
    "\\end{align*}\n",
    "A simple algebraic manipulation now concludes the proof.\n",
    "\n",
    "\n",
    "Combining the previous two lemmas with the coupling, we get an upper bound on the probability that the Pairwise Annihilation protocol fails to reach majority consensus.\n",
    "This upper bound is in terms of the regularized incomplete beta function.\n",
    "\n",
    "\n",
    "**Lemma.** If $A_0 \\geq B_0$, then\n",
    "the Pairwise Annihilation protocol fails to reach majority consensus with probability at most $I_{1/2}(A_0,B_0)$.\n",
    "\n",
    "*Proof.* Setting $X_0=A_0$ and $Y_0=B_0$, we get\n",
    "$\\mathbb{P}(\\text{$B$ wins}) = \\frac{1}{2}\\cdot \\mathbb{P}(\\exists k\\colon A_k = B_k) \\leq \\frac{1}{2}\\cdot \\mathbb{P}(\\exists k\\colon  X_k = Y_k) = I_{1/2}(A_0,B_0)$.\n",
    "\n",
    "\n",
    "It only remains to upper-bound the term $I_{1/2}(\\alpha,\\beta)$:\n",
    "\n",
    "**Lemma.** For $m,\\Delta \\in \\mathbb{N}$, it holds that\n",
    "\\begin{align*}\n",
    "\\displaystyle I_{1/2}(m+\\Delta,m) = \\exp\\left(-\\Omega\\left (\\frac{\\Delta^2}{m} \\right) \\right)\\enspace.\n",
    "\\end{align*}"
   ]
  }
 ],
 "metadata": {
  "kernelspec": {
   "display_name": "Python 3 (ipykernel)",
   "language": "python",
   "name": "python3"
  },
  "language_info": {
   "codemirror_mode": {
    "name": "ipython",
    "version": 3
   },
   "file_extension": ".py",
   "mimetype": "text/x-python",
   "name": "python",
   "nbconvert_exporter": "python",
   "pygments_lexer": "ipython3",
   "version": "3.10.6"
  }
 },
 "nbformat": 4,
 "nbformat_minor": 4
}
