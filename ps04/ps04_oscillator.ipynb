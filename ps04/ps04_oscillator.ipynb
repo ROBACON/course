{
 "cells": [
  {
   "cell_type": "markdown",
   "metadata": {},
   "source": [
    "# Problem Session 4. Including mRNA and protein in the oscillator model\n",
    "\n",
    "<hr>"
   ]
  },
  {
   "cell_type": "markdown",
   "metadata": {
    "jp-MarkdownHeadingCollapsed": true,
    "tags": []
   },
   "source": [
    "In the analysis in the lecture, we only considered the three proteins. Now, we will consider the mRNA dynamics explicitly as well. We will again assume a symmetry among the various genes, wherein all promoters have the same strength and all repressors have the same Hill coefficient $n$ and Hill activation constant $k$. The dynamical equations are then\n",
    "\n",
    "\\begin{align}\n",
    "\\frac{\\mathrm{d}m_i}{\\mathrm{d}t} &= \\alpha + \\frac{\\beta_m}{1 + (x_j/k)^n} - \\gamma_m m_i,\\\\[1em]\n",
    "\\frac{\\mathrm{d}x_i}{\\mathrm{d}t} &= \\beta_p m_i - \\gamma_p x_i, \\\\[1em]\n",
    "\\end{align}\n",
    "\n",
    "with $i,j$ pairs $(1,3), (2,1), (3,2)$. Here, we have introduced $\\rho$ to allow for leaky transcription. In dimensionless units, these equations are\n",
    "\n",
    "\\begin{align}\n",
    "\\frac{\\mathrm{d}m_i}{\\mathrm{d}t} &= \\beta\\left(\\rho + \\frac{1}{1 + x_j^n}\\right) - m_i, \\\\[1em]\n",
    "\\gamma^{-1}\\,\\frac{\\mathrm{d}x_i}{\\mathrm{d}t} &= m_i - x_i,\n",
    "\\end{align}\n",
    "\n",
    "where $\\gamma \\equiv \\gamma_p/\\gamma_m$ is the ratio of the two timescales in the system–the protein and mRNA degradation/decay rates, $\\beta = \\beta_m\\beta_p/\\gamma_m\\gamma_p k$ is a dimensionless promoter strength, and $\\rho = \\alpha/\\beta_m$ is the relative strength of leaky versus regulated expression.\n",
    "\n",
    "We can solve this system numerically and plot the dynamics.\n",
    "\n",
    "Repeat the analysis of the repressilator using these 6 chemical species. Try to support the following design objectives with your analysis:"
   ]
  },
  {
   "cell_type": "markdown",
   "metadata": {},
   "source": [
    "## The repressilator design objectives\n",
    "\n",
    "From the analysis we can extract several design objectives or guidelines that will optimize the chances of achieving self-sustaining oscillations. An ideal system should use:\n",
    "\n",
    "1. Low \"leakiness:\" $\\rho \\ll 1$ ⟶ *Use tight, artificial promoters that can be fully repressed.*\n",
    "\n",
    "2. Strong promoters: $\\beta \\gg 1$ ⟶ *Can be achieved using strong promoters derived from phages that produce high protein levels*\n",
    "\n",
    "3. Similar protein and mRNA decay rates $\\gamma\\approx 1$ ⟶ *Destabilize repressors to increase their decay rates to be more comparable to those of mRNA. This can be done by adding destabilizing C-terminal tags based on the [ssrA protein degradation system](https://doi.org/10.1038/75843).*\n",
    "\n",
    "<div style=\"margin: auto; width: 300px;\">\n",
    "    \n",
    "<figure style=\"width: 100%; margin: auto; padding: 20px;\">\n",
    "  <img src=\"figs/ssrA_tags.png\" alt=\"ssrA tags\">\n",
    "</figure>\n",
    "    \n",
    "</div>\n",
    "\n",
    "*The protein production shut off was at time zero. This plot shows how adding different variants of the 11-amino acid ssrA tag can alter the decay rate of a fluorescent protein. The gap in data due to technical glitch.*\n",
    "\n",
    "4. Ultrasensitive repression curves, ideally $n > 1.5$ or $2$, or as large as possible ⟶ *Use intrinsically cooperative repression mechanisms, such as those from phage λ, or those that incorporate multiple binding sites, such as those in the TetR system. [Lutz & Bujard](https://academic.oup.com/nar/article/25/6/1203/1197243) showed that the phage λ* $P_R$ *promoter architecture provides a high regulatory range, and can be adapted to work with binding sites for LacI and TetR*.\n",
    " \n",
    "Additional biological design goals:\n",
    "\n",
    "5. To minimize toxicity from overexpressing repressors, put the circuit on a low copy plasmid (pSC101)...\n",
    "\n",
    "6. ...But to maximize the readout, put a fluorescent reporter gene on a higher copy number plasmid (ColE1).\n",
    "\n",
    "7. Destabilize the fluorescent protein so that it can track the circuit activity\n",
    "\n",
    "8. Avoid \"read through\" from one operon to the next ⟶ add transcriptional terminators between promoter-repressor units.\n",
    "\n",
    "Based on these considerations,  the repressilator was designed as a two plasmid system to be used in an *E. coli* strain deleted for the natural *lac* operon.\n",
    "\n",
    "<div style=\"margin: auto; width: 400px;\">\n",
    "    \n",
    "<figure style=\"width: 100%; margin: auto; padding: 20px;\">\n",
    "  <img src=\"figs/repressilator_plasmids.png\" alt=\"repressilator plasmids\">\n",
    "</figure>\n",
    "    \n",
    "</div>\n",
    "\n",
    "Here, the repressilator consists of three repressors on the low copy pSC101 plasmid, with TetR additionally repressing a green fluorescent protein reporter on the higher copy ColE1 plasmid. The _lite_ suffix on the repressors signifies that they have a destruction tag to decrease their stability.  The _aav_ suffix on the GFP indicates that it is a variant of intermediate stability. "
   ]
  },
  {
   "cell_type": "code",
   "execution_count": null,
   "metadata": {},
   "outputs": [],
   "source": []
  }
 ],
 "metadata": {
  "kernelspec": {
   "display_name": "Python 3 (ipykernel)",
   "language": "python",
   "name": "python3"
  },
  "language_info": {
   "codemirror_mode": {
    "name": "ipython",
    "version": 3
   },
   "file_extension": ".py",
   "mimetype": "text/x-python",
   "name": "python",
   "nbconvert_exporter": "python",
   "pygments_lexer": "ipython3",
   "version": "3.9.6"
  },
  "toc": {
   "base_numbering": 1,
   "nav_menu": {},
   "number_sections": true,
   "sideBar": true,
   "skip_h1_title": false,
   "title_cell": "Table of Contents",
   "title_sidebar": "Contents",
   "toc_cell": false,
   "toc_position": {},
   "toc_section_display": true,
   "toc_window_display": false
  },
  "varInspector": {
   "cols": {
    "lenName": 16,
    "lenType": 16,
    "lenVar": 40
   },
   "kernels_config": {
    "python": {
     "delete_cmd_postfix": "",
     "delete_cmd_prefix": "del ",
     "library": "var_list.py",
     "varRefreshCmd": "print(var_dic_list())"
    },
    "r": {
     "delete_cmd_postfix": ") ",
     "delete_cmd_prefix": "rm(",
     "library": "var_list.r",
     "varRefreshCmd": "cat(var_dic_list()) "
    }
   },
   "types_to_exclude": [
    "module",
    "function",
    "builtin_function_or_method",
    "instance",
    "_Feature"
   ],
   "window_display": false
  }
 },
 "nbformat": 4,
 "nbformat_minor": 4
}
