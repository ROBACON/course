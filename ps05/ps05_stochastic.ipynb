{
 "cells": [
  {
   "cell_type": "markdown",
   "id": "2619bd5b-4888-499d-9a76-d2c633b749c3",
   "metadata": {},
   "source": [
    "# Problem session 5\n",
    "\n",
    "We have seen how to implement the Gillespie algorithm.\n",
    "However, writing down the update and propensity functions is tedious and error prone.\n",
    "Let's use a tool that does this for us.\n",
    "\n",
    "In this lecture we chose to go with [MobsPy](https://github.com/ROBACON/mobspy) - a model tool for reactions based on the [Copasi](http://copasi.org) simulator."
   ]
  },
  {
   "cell_type": "markdown",
   "id": "860e4726-ff2f-4a9f-a617-010f2ea671df",
   "metadata": {},
   "source": [
    "### Introduction to MobsPy\n",
    "\n",
    "Take a look at the tutorial examples on the [MobsPy GitHub Page](https://github.com/ROBACON/mobspy).\n"
   ]
  },
  {
   "cell_type": "markdown",
   "id": "d6d1c1d8-64f2-4c16-8fe1-72b55a770ba0",
   "metadata": {},
   "source": [
    "### Distributed oscillation among bacteria\n",
    "\n",
    "Check out the next homework.\n",
    "It is based on a paper that proposes an algorithm that leads to oscillation of bacterial concentrations.\n",
    "The design makes use of communication among the bacteria via a small diffusible signaling molecule AHL.\n",
    "\n",
    "We propose to start reading the homework assignment with the following questions in mind:\n",
    "* What are the species that you would like to track to model the observed behavior.\n",
    "  In particular, think about what is your volume that you want to track over time.\n",
    "  Or do you need to distinguish between several compartments?\n",
    "* Next think of the reactions.\n",
    "  Which reactions are important? And what is their kinetics?\n",
    "  Can you come up with estimates for kinetics parameters (based on the paper or other sources, ...)?\n",
    "  State all your sources and explain choices.\n",
    "* Are you going to use ODEs or stochastic simulations?\n",
    "  Are you writing custom simulation code for it, or using the lecture's SSA algorithm, or will you use MobsPy?\n",
    "  Tell us why."
   ]
  },
  {
   "cell_type": "code",
   "execution_count": null,
   "id": "7f6908ec-06a3-4558-9a6f-c3dbedf2dbc1",
   "metadata": {},
   "outputs": [],
   "source": []
  }
 ],
 "metadata": {
  "kernelspec": {
   "display_name": "Python 3 (ipykernel)",
   "language": "python",
   "name": "python3"
  },
  "language_info": {
   "codemirror_mode": {
    "name": "ipython",
    "version": 3
   },
   "file_extension": ".py",
   "mimetype": "text/x-python",
   "name": "python",
   "nbconvert_exporter": "python",
   "pygments_lexer": "ipython3",
   "version": "3.10.6"
  }
 },
 "nbformat": 4,
 "nbformat_minor": 5
}
