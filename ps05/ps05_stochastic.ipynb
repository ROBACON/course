{
 "cells": [
  {
   "cell_type": "markdown",
   "id": "2619bd5b-4888-499d-9a76-d2c633b749c3",
   "metadata": {},
   "source": [
    "# Problem session 5\n",
    "\n",
    "We have seen how to implement the Gillespie algorithm.\n",
    "However, writing down the update and propensity functions is tedious and error prone.\n",
    "Let's use a tool that does this for us.\n",
    "\n",
    "In this lecture we chose to go with [basico](https://basico.readthedocs.io/en/latest/index.html) - a slim and powerful simulation tool for reactions based on [Copasi](http://copasi.org).\n",
    "Let's load some libraries first."
   ]
  },
  {
   "cell_type": "code",
   "execution_count": 1,
   "id": "6a476546-b977-43e6-b571-a7b81a983e1d",
   "metadata": {},
   "outputs": [],
   "source": [
    "# -- install --\n",
    "# uncomment if needed\n",
    "#\n",
    "# %pip install copasi-basico\n",
    "# -- end install --\n",
    "\n",
    "from basico import *\n",
    "\n",
    "# numbers\n",
    "import numpy as np\n",
    "import scipy.stats as st\n",
    "import numba\n",
    "\n",
    "# plotting\n",
    "import matplotlib.pyplot as plt\n",
    "figsize = (5,4)"
   ]
  },
  {
   "cell_type": "markdown",
   "id": "6421470f-3312-4f25-ba2f-7347ddbf0288",
   "metadata": {},
   "source": [
    "## Hello world: $A + B \\rightarrow C$\n",
    "Now let's create our first model and simulate it.\n",
    "We are using [pandas](https://pandas.pydata.org/docs/) to plot the data, but could also transform it into a numpy/list to plot is with matplotlib."
   ]
  },
  {
   "cell_type": "code",
   "execution_count": 2,
   "id": "28a63e30-79d5-4587-9137-5b805e2609b6",
   "metadata": {},
   "outputs": [
    {
     "name": "stdout",
     "output_type": "stream",
     "text": [
      "We are using these units:\n",
      "{'time_unit': 's', 'quantity_unit': '#', 'length_unit': 'm', 'area_unit': 'm²', 'volume_unit': 'ml'}\n",
      "\n",
      "Initial counts are:\n",
      "name\n",
      "A    10.0\n",
      "B    20.0\n",
      "C     0.0\n",
      "Name: initial_particle_number, dtype: float64\n",
      "\n",
      "Results:\n",
      "         A     B     C\n",
      "Time                  \n",
      "0.0   10.0  20.0   0.0\n",
      "0.5    8.0  18.0   2.0\n",
      "1.0    6.0  16.0   4.0\n",
      "1.5    5.0  15.0   5.0\n",
      "2.0    4.0  14.0   6.0\n",
      "...    ...   ...   ...\n",
      "48.0   0.0  10.0  10.0\n",
      "48.5   0.0  10.0  10.0\n",
      "49.0   0.0  10.0  10.0\n",
      "49.5   0.0  10.0  10.0\n",
      "50.0   0.0  10.0  10.0\n",
      "\n",
      "[101 rows x 3 columns]\n"
     ]
    },
    {
     "data": {
      "text/plain": [
       "<Figure size 360x288 with 0 Axes>"
      ]
     },
     "metadata": {},
     "output_type": "display_data"
    },
    {
     "data": {
      "image/png": "[encoded data removed]",
      "text/plain": [
       "<Figure size 432x288 with 1 Axes>"
      ]
     },
     "metadata": {
      "needs_background": "light"
     },
     "output_type": "display_data"
    }
   ],
   "source": [
    "# create model\n",
    "modelname = 'my model'\n",
    "new_model(name=modelname)\n",
    "set_model_unit(quantity_unit='#')\n",
    "set_model_unit(volume_unit='ml')\n",
    "add_reaction('R1', 'A + B -> C')\n",
    "set_species('A', initial_concentration=10)\n",
    "set_species('B', initial_concentration=20)\n",
    "set_species('C', initial_concentration=0)\n",
    "set_reaction_parameters('(R1).k1', value=1/60)\n",
    "\n",
    "# show current setting\n",
    "print('We are using these units:')\n",
    "print(get_model_units())\n",
    "print('\\nInitial counts are:')\n",
    "print(get_species().initial_particle_number)\n",
    "\n",
    "# simulate\n",
    "result_det = run_time_course(duration=50, method='deterministic', use_numbers=True, use_seed=False)\n",
    "result_sto = run_time_course(duration=50, method='stochastic', use_numbers=True, use_seed=False)\n",
    "\n",
    "# show results\n",
    "print('\\nResults:')\n",
    "print(result_sto)\n",
    "\n",
    "TO_PLOT = ['A', 'B', 'C']\n",
    "\n",
    "# plot on top of each other\n",
    "# we are using pandas plot here\n",
    "fig = plt.figure(figsize=figsize)\n",
    "ax = None\n",
    "for res in [result_det, result_sto]:\n",
    "    res_filtered = res.loc[:, TO_PLOT]\n",
    "    if ax is None:\n",
    "        ax = res_filtered.plot()\n",
    "    else:\n",
    "        res_filtered.plot(ax=ax)\n",
    "    plt.title(modelname)\n",
    "    plt.xlabel('time')\n",
    "    plt.ylabel('counts')\n"
   ]
  },
  {
   "cell_type": "markdown",
   "id": "860e4726-ff2f-4a9f-a617-010f2ea671df",
   "metadata": {},
   "source": [
    "### A word of warning\n",
    "\n",
    "Be careful since `basico` calls by design have side effects. It may be that you created a model and later changed species names, but the model\n",
    "still has the old species in it. If such things happen, restart the kernel.\n",
    "\n",
    "### More reactions\n",
    "\n",
    "Try to modify the code above: introduce more reactions and play around with plotting several stochastic traces.\n",
    "Once you are comfortable with running simulations, you are ready for your first dsitributed algorithm.\n"
   ]
  },
  {
   "cell_type": "markdown",
   "id": "d6d1c1d8-64f2-4c16-8fe1-72b55a770ba0",
   "metadata": {},
   "source": [
    "### Distributed oscillation among bacteria\n",
    "\n",
    "Check out the next homework.\n",
    "It is based on a paper that proposes an algorithm that leads to oscillation of bacterial concentrations.\n",
    "The design makes use of communication among the bacteria via a small diffusible signaling molecule AHL.\n",
    "\n",
    "We propose to start reading the homework assignment with the following questions in mind:\n",
    "* What are the species that you would like to track to model the observed behavior.\n",
    "  In particular, think about what is your volume that you want to track over time.\n",
    "  Or do you need to distinguish between several compartments?\n",
    "* Next think of the reactions.\n",
    "  Which reactions are important? And what is their kinetics?\n",
    "  Can you come up with estimates for kinetics parameters (based on the paper or other sources, ...)?\n",
    "  State all your sources and explain choices.\n",
    "* Are you going to use ODEs or stochastic simulations?\n",
    "  Are you cwriting customn simulation code for it, or using the lecture's SSA algorithm, or will you use basico?\n",
    "  Tell us why."
   ]
  },
  {
   "cell_type": "code",
   "execution_count": null,
   "id": "7f6908ec-06a3-4558-9a6f-c3dbedf2dbc1",
   "metadata": {},
   "outputs": [],
   "source": []
  }
 ],
 "metadata": {
  "kernelspec": {
   "display_name": "Python 3",
   "language": "python",
   "name": "python3"
  },
  "language_info": {
   "codemirror_mode": {
    "name": "ipython",
    "version": 3
   },
   "file_extension": ".py",
   "mimetype": "text/x-python",
   "name": "python",
   "nbconvert_exporter": "python",
   "pygments_lexer": "ipython3",
   "version": "3.8.8"
  }
 },
 "nbformat": 4,
 "nbformat_minor": 5
}
