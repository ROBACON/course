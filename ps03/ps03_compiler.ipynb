{
 "cells": [
  {
   "cell_type": "markdown",
   "id": "455767ab",
   "metadata": {},
   "source": [
    "# Compiler"
   ]
  },
  {
   "cell_type": "code",
   "execution_count": 41,
   "id": "8350435c",
   "metadata": {},
   "outputs": [],
   "source": [
    "from urllib.request import urlopen\n",
    "import json\n",
    "import numpy as np\n",
    "from scipy.interpolate import interp1d\n",
    "\n",
    "import matplotlib.pyplot as plt\n",
    "%matplotlib inline\n",
    "\n",
    "figsize=(6, 4.5)"
   ]
  },
  {
   "cell_type": "markdown",
   "id": "8290aebf",
   "metadata": {},
   "source": [
    "## Obtaining model and experimental data\n",
    "\n",
    "[Cello](https://github.com/CIDARLAB/Cello-v2) is a genetic circuit compiler.\n",
    "It compiles circuits written in a hardare description language (a sublanguage of `Verilog`) into\n",
    "  `NOR` and `NOT` gates, to then finally generate DNA with the genetic circuit in it.\n",
    "Check out the paper by [Nielsen et al.](https://www.science.org/doi/full/10.1126/science.aac7341?casa_token=s0MZasgUtiIAAAAA:hYS8PI5tJ8VqU6daoE-T3BgoOjrA_iXwvzjwFrqeUDiSA3zP5DMc6STWS7mJUZBA8x33QPrCxrvSWw) for a description of the compiler.\n",
    "\n",
    "We will use modeling and experimental data from the Cello v2 compiler in the form of a [UCF file](https://github.com/CIDARLAB/Cello-UCF/blob/cfb4de1cf125a6fb5af1971730844ea5d0e91623/files/v2/ucf/Eco/Eco1C1G1T1.UCF.json).\n",
    "Let's load it into a variable so that we can work with it."
   ]
  },
  {
   "cell_type": "code",
   "execution_count": 42,
   "id": "ad14dbc5",
   "metadata": {},
   "outputs": [],
   "source": [
    "# fetch it form this url\n",
    "url = \"https://github.com/CIDARLAB/Cello-UCF/raw/cfb4de1cf125a6fb5af1971730844ea5d0e91623/files/v2/ucf/Eco/Eco1C1G1T1.UCF.json\"\n",
    "  \n",
    "# get & parse\n",
    "response = urlopen(url)\n",
    "ucf_data = json.loads(response.read())\n",
    "\n",
    "# if stored locally use this:\n",
    "#\n",
    "# with open('Eco1C1G1T1.UCF.json','r') as f:\n",
    "#     s = f.read()\n",
    "# ucf_data = json.loads(s)"
   ]
  },
  {
   "cell_type": "markdown",
   "id": "a642bf47",
   "metadata": {},
   "source": [
    "And check out what is inside. It is a list that starts with a header that includes general information from the used bacteria to experimental conditions under which data was obtained:"
   ]
  },
  {
   "cell_type": "code",
   "execution_count": 43,
   "id": "5ae2e91c",
   "metadata": {},
   "outputs": [
    {
     "name": "stdout",
     "output_type": "stream",
     "text": [
      "{'collection': 'header', 'description': 'TetR homologs: PhlF, SrpR, BM3R1, HlyIIR, BetI, AmtR, AmeR, QacR, IcaRA, LitR, PsrA, LmrA', 'version': 'Eco1C1G1T1', 'date': 'Thu Dec 24 00:56:10 EST 2015', 'author': ['Bryan Der', 'Timothy Jones'], 'organism': 'Escherichia coli NEB 10-beta', 'genome': 'NEB 10 ∆(ara-leu) 7697 araD139 fhuA ∆lacX74 galK16 galE15 e14- φ80dlacZ∆M15  recA1 relA1 endA1 nupG  rpsL (StrR) rph spoT1 ∆(mrr-hsdRMS-mcrBC)', 'media': 'M9 minimal media composed of M9 media salts (6.78 g/L Na2HPO4, 3 g/L KH2PO4, 1 g/L NH4Cl, 0.5 g/L NaCl, 0.34 g/L thiamine hydrochloride, 0.4% D-glucose, 0.2% Casamino acids, 2 mM MgSO4, and 0.1 mM CaCl2; kanamycin (50 ug/ml), spectinomycin (50 ug/ml)', 'temperature': '37', 'growth': 'Inoculation: Individual colonies into M9 media, 16 hours overnight in plate shaker.  Dilution: Next day, cells dilute ~200-fold into M9 media with antibiotics, growth for 3 hours.  Induction: Cells diluted ~650-fold into M9 media with antibiotics.  Growth: shaking incubator for 5 hours.  Arrest protein production: PBS and 2mg/ml kanamycin.  Measurement: flow cytometry, data processing for RPU normalization.'}\n"
     ]
    }
   ],
   "source": [
    "print(ucf_data[0])"
   ]
  },
  {
   "cell_type": "markdown",
   "id": "5c49ce19",
   "metadata": {},
   "source": [
    "To get an overview on all the elements stored in the UCF file, let's see the collection names."
   ]
  },
  {
   "cell_type": "code",
   "execution_count": 44,
   "id": "be047f8a",
   "metadata": {},
   "outputs": [
    {
     "name": "stdout",
     "output_type": "stream",
     "text": [
      "['header', 'measurement_std', 'logic_constraints', 'motif_library', 'motif_library', 'motif_library', 'motif_library', 'motif_library', 'motif_library', 'motif_library', 'motif_library', 'motif_library', 'motif_library', 'motif_library', 'motif_library', 'motif_library', 'motif_library', 'motif_library', 'motif_library', 'motif_library', 'motif_library', 'motif_library', 'motif_library', 'motif_library', 'motif_library', 'motif_library', 'motif_library', 'motif_library', 'motif_library', 'motif_library', 'motif_library', 'motif_library', 'motif_library', 'motif_library', 'motif_library', 'motif_library', 'motif_library', 'motif_library', 'motif_library', 'motif_library', 'motif_library', 'motif_library', 'motif_library', 'motif_library', 'motif_library', 'motif_library', 'motif_library', 'motif_library', 'motif_library', 'motif_library', 'motif_library', 'motif_library', 'motif_library', 'motif_library', 'motif_library', 'motif_library', 'motif_library', 'motif_library', 'motif_library', 'motif_library', 'motif_library', 'motif_library', 'motif_library', 'motif_library', 'motif_library', 'motif_library', 'motif_library', 'motif_library', 'motif_library', 'motif_library', 'motif_library', 'motif_library', 'motif_library', 'motif_library', 'motif_library', 'motif_library', 'motif_library', 'motif_library', 'motif_library', 'motif_library', 'motif_library', 'motif_library', 'motif_library', 'motif_library', 'motif_library', 'motif_library', 'motif_library', 'motif_library', 'motif_library', 'motif_library', 'motif_library', 'motif_library', 'motif_library', 'motif_library', 'motif_library', 'motif_library', 'motif_library', 'motif_library', 'motif_library', 'motif_library', 'motif_library', 'motif_library', 'motif_library', 'motif_library', 'motif_library', 'motif_library', 'motif_library', 'motif_library', 'motif_library', 'motif_library', 'motif_library', 'motif_library', 'motif_library', 'motif_library', 'motif_library', 'motif_library', 'motif_library', 'motif_library', 'motif_library', 'motif_library', 'motif_library', 'motif_library', 'motif_library', 'motif_library', 'motif_library', 'motif_library', 'motif_library', 'motif_library', 'motif_library', 'motif_library', 'motif_library', 'motif_library', 'motif_library', 'motif_library', 'motif_library', 'motif_library', 'motif_library', 'motif_library', 'motif_library', 'motif_library', 'motif_library', 'motif_library', 'motif_library', 'motif_library', 'motif_library', 'motif_library', 'motif_library', 'motif_library', 'motif_library', 'motif_library', 'motif_library', 'motif_library', 'motif_library', 'motif_library', 'motif_library', 'motif_library', 'motif_library', 'motif_library', 'motif_library', 'motif_library', 'motif_library', 'motif_library', 'motif_library', 'motif_library', 'motif_library', 'motif_library', 'motif_library', 'motif_library', 'motif_library', 'motif_library', 'motif_library', 'motif_library', 'motif_library', 'motif_library', 'motif_library', 'motif_library', 'motif_library', 'motif_library', 'motif_library', 'motif_library', 'motif_library', 'motif_library', 'motif_library', 'motif_library', 'motif_library', 'motif_library', 'motif_library', 'motif_library', 'motif_library', 'motif_library', 'motif_library', 'motif_library', 'motif_library', 'motif_library', 'motif_library', 'motif_library', 'motif_library', 'motif_library', 'motif_library', 'motif_library', 'motif_library', 'motif_library', 'motif_library', 'motif_library', 'motif_library', 'motif_library', 'motif_library', 'motif_library', 'motif_library', 'motif_library', 'motif_library', 'motif_library', 'motif_library', 'motif_library', 'motif_library', 'motif_library', 'motif_library', 'motif_library', 'motif_library', 'motif_library', 'motif_library', 'motif_library', 'motif_library', 'motif_library', 'motif_library', 'motif_library', 'motif_library', 'motif_library', 'motif_library', 'motif_library', 'motif_library', 'motif_library', 'motif_library', 'motif_library', 'motif_library', 'motif_library', 'motif_library', 'motif_library', 'motif_library', 'motif_library', 'motif_library', 'motif_library', 'motif_library', 'motif_library', 'motif_library', 'motif_library', 'motif_library', 'motif_library', 'motif_library', 'motif_library', 'motif_library', 'motif_library', 'motif_library', 'motif_library', 'motif_library', 'motif_library', 'motif_library', 'motif_library', 'motif_library', 'motif_library', 'motif_library', 'motif_library', 'motif_library', 'motif_library', 'motif_library', 'motif_library', 'motif_library', 'motif_library', 'motif_library', 'motif_library', 'motif_library', 'motif_library', 'motif_library', 'motif_library', 'motif_library', 'motif_library', 'motif_library', 'motif_library', 'motif_library', 'motif_library', 'motif_library', 'motif_library', 'motif_library', 'motif_library', 'motif_library', 'motif_library', 'motif_library', 'motif_library', 'motif_library', 'motif_library', 'motif_library', 'motif_library', 'motif_library', 'motif_library', 'motif_library', 'motif_library', 'motif_library', 'motif_library', 'motif_library', 'motif_library', 'motif_library', 'motif_library', 'motif_library', 'motif_library', 'motif_library', 'motif_library', 'motif_library', 'motif_library', 'motif_library', 'motif_library', 'motif_library', 'motif_library', 'motif_library', 'motif_library', 'motif_library', 'motif_library', 'motif_library', 'motif_library', 'motif_library', 'motif_library', 'motif_library', 'motif_library', 'motif_library', 'motif_library', 'motif_library', 'motif_library', 'motif_library', 'motif_library', 'motif_library', 'motif_library', 'motif_library', 'motif_library', 'motif_library', 'motif_library', 'motif_library', 'motif_library', 'motif_library', 'motif_library', 'motif_library', 'motif_library', 'motif_library', 'motif_library', 'motif_library', 'motif_library', 'motif_library', 'motif_library', 'motif_library', 'motif_library', 'motif_library', 'motif_library', 'motif_library', 'motif_library', 'motif_library', 'motif_library', 'motif_library', 'motif_library', 'motif_library', 'motif_library', 'motif_library', 'motif_library', 'motif_library', 'motif_library', 'motif_library', 'motif_library', 'motif_library', 'motif_library', 'motif_library', 'motif_library', 'motif_library', 'motif_library', 'motif_library', 'motif_library', 'motif_library', 'motif_library', 'motif_library', 'motif_library', 'motif_library', 'motif_library', 'motif_library', 'motif_library', 'motif_library', 'motif_library', 'motif_library', 'motif_library', 'motif_library', 'motif_library', 'motif_library', 'motif_library', 'motif_library', 'motif_library', 'motif_library', 'motif_library', 'motif_library', 'motif_library', 'motif_library', 'motif_library', 'motif_library', 'motif_library', 'motif_library', 'motif_library', 'motif_library', 'motif_library', 'motif_library', 'motif_library', 'motif_library', 'motif_library', 'motif_library', 'motif_library', 'motif_library', 'motif_library', 'motif_library', 'motif_library', 'motif_library', 'motif_library', 'motif_library', 'motif_library', 'motif_library', 'motif_library', 'motif_library', 'motif_library', 'motif_library', 'motif_library', 'motif_library', 'motif_library', 'motif_library', 'motif_library', 'motif_library', 'motif_library', 'motif_library', 'motif_library', 'motif_library', 'motif_library', 'motif_library', 'motif_library', 'motif_library', 'motif_library', 'motif_library', 'motif_library', 'motif_library', 'motif_library', 'motif_library', 'motif_library', 'motif_library', 'motif_library', 'motif_library', 'motif_library', 'motif_library', 'motif_library', 'motif_library', 'motif_library', 'motif_library', 'motif_library', 'motif_library', 'motif_library', 'motif_library', 'motif_library', 'motif_library', 'motif_library', 'motif_library', 'motif_library', 'motif_library', 'motif_library', 'motif_library', 'motif_library', 'motif_library', 'motif_library', 'motif_library', 'motif_library', 'motif_library', 'motif_library', 'motif_library', 'motif_library', 'motif_library', 'motif_library', 'motif_library', 'motif_library', 'motif_library', 'motif_library', 'motif_library', 'motif_library', 'motif_library', 'motif_library', 'motif_library', 'motif_library', 'motif_library', 'motif_library', 'motif_library', 'motif_library', 'motif_library', 'motif_library', 'motif_library', 'motif_library', 'motif_library', 'motif_library', 'motif_library', 'motif_library', 'motif_library', 'motif_library', 'motif_library', 'motif_library', 'motif_library', 'motif_library', 'motif_library', 'motif_library', 'motif_library', 'motif_library', 'motif_library', 'motif_library', 'motif_library', 'motif_library', 'motif_library', 'gates', 'gates', 'gates', 'gates', 'gates', 'gates', 'gates', 'gates', 'gates', 'gates', 'gates', 'gates', 'gates', 'gates', 'gates', 'gates', 'gates', 'gates', 'gates', 'gates', 'models', 'models', 'models', 'models', 'models', 'models', 'models', 'models', 'models', 'models', 'models', 'models', 'models', 'models', 'models', 'models', 'models', 'models', 'models', 'models', 'structures', 'structures', 'structures', 'structures', 'structures', 'structures', 'structures', 'structures', 'structures', 'structures', 'structures', 'structures', 'structures', 'structures', 'structures', 'structures', 'structures', 'structures', 'structures', 'structures', 'functions', 'functions', 'parts', 'parts', 'parts', 'parts', 'parts', 'parts', 'parts', 'parts', 'parts', 'parts', 'parts', 'parts', 'parts', 'parts', 'parts', 'parts', 'parts', 'parts', 'parts', 'parts', 'parts', 'parts', 'parts', 'parts', 'parts', 'parts', 'parts', 'parts', 'parts', 'parts', 'parts', 'parts', 'parts', 'parts', 'parts', 'parts', 'parts', 'parts', 'parts', 'parts', 'parts', 'parts', 'parts', 'parts', 'parts', 'parts', 'parts', 'parts', 'parts', 'parts', 'parts', 'parts', 'parts', 'parts', 'parts', 'parts', 'parts', 'parts', 'parts', 'parts', 'parts', 'parts', 'parts', 'parts', 'parts', 'parts', 'parts', 'parts', 'parts', 'parts', 'parts', 'parts', 'parts', 'parts', 'parts', 'parts', 'parts', 'parts', 'parts', 'parts', 'parts', 'parts', 'parts', 'parts', 'functions', 'functions', 'functions', 'functions', 'functions', 'functions', 'functions', 'functions', 'functions', 'functions', 'functions', 'functions', 'functions', 'functions', 'functions', 'functions', 'functions', 'functions', 'functions', 'functions', 'functions', 'functions', 'functions', 'functions', 'functions', 'functions', 'functions', 'functions', 'functions', 'functions', 'functions', 'functions', 'functions', 'functions', 'functions', 'functions', 'functions', 'functions', 'functions', 'functions', 'device_rules', 'circuit_rules', 'genetic_locations']\n"
     ]
    }
   ],
   "source": [
    "print([d['collection'] for d in ucf_data])"
   ]
  },
  {
   "cell_type": "markdown",
   "id": "3b306873",
   "metadata": {},
   "source": [
    "## A NOR gate from the library\n",
    "\n",
    "The library contains several gates as can be seen in the `collection` variables.\n",
    "Le us study one such gate: the `S3_SrpR`.\n"
   ]
  },
  {
   "cell_type": "code",
   "execution_count": 56,
   "id": "363f11b6",
   "metadata": {},
   "outputs": [
    {
     "name": "stdout",
     "output_type": "stream",
     "text": [
      "{'collection': 'gates', 'name': 'S3_SrpR', 'system': 'TetR', 'group': 'SrpR', 'regulator': 'SrpR', 'gate_type': 'NOR', 'color': '006838', 'model': 'S3_SrpR_model', 'structure': 'S3_SrpR_structure'}\n"
     ]
    }
   ],
   "source": [
    "gates_lib = [d for d in ucf_data if d['collection'] == 'gates']\n",
    "\n",
    "gate_name = 'S3_SrpR'  # 'L1_LitR'\n",
    "gate = [g for g in gates_lib if g['name'] == gate_name][0]\n",
    "\n",
    "print(gate)"
   ]
  },
  {
   "cell_type": "markdown",
   "id": "69ca748e",
   "metadata": {},
   "source": [
    "In fact all gates are `NOR` gates as we can check:"
   ]
  },
  {
   "cell_type": "code",
   "execution_count": 57,
   "id": "ba5385af",
   "metadata": {},
   "outputs": [
    {
     "name": "stdout",
     "output_type": "stream",
     "text": [
      "['NOR', 'NOR', 'NOR', 'NOR', 'NOR', 'NOR', 'NOR', 'NOR', 'NOR', 'NOR', 'NOR', 'NOR', 'NOR', 'NOR', 'NOR', 'NOR', 'NOR', 'NOR', 'NOR', 'NOR']\n"
     ]
    }
   ],
   "source": [
    "print( [g['gate_type'] for g in gates_lib] )"
   ]
  },
  {
   "cell_type": "markdown",
   "id": "4aaf828c",
   "metadata": {},
   "source": [
    "## Structure of the gate\n",
    "\n",
    "It's structure, i.e., the genetic design, is obtained as follows:"
   ]
  },
  {
   "cell_type": "code",
   "execution_count": 58,
   "id": "d5e720d4",
   "metadata": {},
   "outputs": [
    {
     "name": "stdout",
     "output_type": "stream",
     "text": [
      "{'collection': 'structures', 'name': 'S3_SrpR_structure', 'inputs': [{'name': 'in1', 'part_type': 'promoter'}, {'name': 'in2', 'part_type': 'promoter'}], 'outputs': ['pSrpR'], 'devices': [{'name': 'S3_SrpR', 'components': ['#in1', '#in2', 'S3_SrpR_cassette']}, {'name': 'S3_SrpR_cassette', 'components': ['RiboJ10', 'S3', 'SrpR', 'ECK120029600']}]}\n"
     ]
    }
   ],
   "source": [
    "structure_lib = [d for d in ucf_data if d['collection'] == 'structures']\n",
    "structure = [s for s in structure_lib if s['name'] == gate['structure']][0]\n",
    "print(structure)"
   ]
  },
  {
   "cell_type": "markdown",
   "id": "272bdfce",
   "metadata": {},
   "source": [
    "## Model of the gate\n",
    "\n",
    "It's model is obtained by"
   ]
  },
  {
   "cell_type": "code",
   "execution_count": 59,
   "id": "14956ede",
   "metadata": {},
   "outputs": [
    {
     "name": "stdout",
     "output_type": "stream",
     "text": [
      "{'collection': 'models', 'name': 'S3_SrpR_model', 'functions': {'response_function': 'Hill_response', 'input_composition': 'linear_input_composition', 'toxicity': 'S3_SrpR_toxicity', 'cytometry': 'S3_SrpR_cytometry'}, 'parameters': [{'name': 'ymax', 'value': 2.1, 'description': 'Maximal transcription'}, {'name': 'ymin', 'value': 0.004, 'description': 'Minimal transcription'}, {'name': 'K', 'value': 0.06, 'description': 'Dissociation equilibrium constant'}, {'name': 'n', 'value': 2.8, 'description': 'Cooperativety'}, {'name': 'alpha', 'value': 0.3337025658634261}, {'name': 'beta', 'value': 0.09255808434135396}]}\n"
     ]
    }
   ],
   "source": [
    "model_lib = [d for d in ucf_data if d['collection'] == 'models']\n",
    "model = [m for m in model_lib if m['name'] == gate['model']][0]\n",
    "print(model)"
   ]
  },
  {
   "cell_type": "markdown",
   "id": "59ff1a0b",
   "metadata": {},
   "source": [
    "It says that a Hill response is used as a model with the additional specification that the inputs are composed linearly. We will check this out in a second as follows:"
   ]
  },
  {
   "cell_type": "code",
   "execution_count": 60,
   "id": "0548e631",
   "metadata": {},
   "outputs": [
    {
     "name": "stdout",
     "output_type": "stream",
     "text": [
      "The first two elments describe these theoretical models:\n",
      "\n",
      "{'collection': 'functions', 'name': 'Hill_response', 'equation': 'ymin + (ymax - ymin) / (1.0 + (x / K)^n)', 'variables': [{'name': 'x', 'map': '#//model/functions/input_composition'}], 'parameters': [{'name': 'ymax', 'map': '#//model/parameters/ymax'}, {'name': 'ymin', 'map': '#//model/parameters/ymin'}, {'name': 'K', 'map': '#//model/parameters/K'}, {'name': 'n', 'map': '#//model/parameters/n'}]}\n",
      "\n",
      "{'collection': 'functions', 'name': 'linear_input_composition', 'equation': 'x2 + x1', 'variables': [{'name': 'x1', 'map': '#//structure/inputs/in1/model/functions/response_function'}, {'name': 'x2', 'map': '#//structure/inputs/in2/model/functions/response_function'}]}\n"
     ]
    }
   ],
   "source": [
    "functions_lib = [d for d in ucf_data if d['collection'] == 'functions']\n",
    "\n",
    "print('The first two elments describe these theoretical models:\\n')\n",
    "print(functions_lib[0])\n",
    "print()\n",
    "print(functions_lib[1])"
   ]
  },
  {
   "cell_type": "markdown",
   "id": "59fe3a7a",
   "metadata": {},
   "source": [
    "## Measurements\n",
    "\n",
    "Intrestingly there are even measurments that give much greater detail.\n",
    "Remember that the steady state input-output behavior is **deterministic** with Hill functions.\n",
    "In fact, measurments show that there is **significant noise** on output behavior.\n",
    "\n",
    "To see this, let's look at measurements:\n",
    "The measurements are (normalized) histograms of steady-state input-output measurements in terms of **Relative Promotor Units (RPUs)**.\n",
    "Details are described in the [supplementary material of Nielsen et al.](https://www.science.org/doi/suppl/10.1126/science.aac7341/suppl_file/nielsen.sm.pdf).\n",
    "For example, Figure S30 shows how distributions are probagated and Section VII.C.9. “gate_cytometry” states that RPUs in UCFs are measured on the same RPU scale to allow for propagation between gates.\n",
    "\n",
    "Let's plot the response distribution for 3 inputs to such a component."
   ]
  },
  {
   "cell_type": "code",
   "execution_count": 61,
   "id": "c4e62a54",
   "metadata": {},
   "outputs": [
    {
     "name": "stdout",
     "output_type": "stream",
     "text": [
      "Checking if distribution: this should be 1\n",
      "1.000000000000001\n"
     ]
    },
    {
     "data": {
      "image/png": "[encoded data removed]",
      "text/plain": [
       "<Figure size 432x324 with 1 Axes>"
      ]
     },
     "metadata": {
      "needs_background": "light"
     },
     "output_type": "display_data"
    }
   ],
   "source": [
    "component = functions_lib[40]  # change to see other components: e.g. 30 for 'L1_LitR'\n",
    "\n",
    "name = component['name']\n",
    "measurements = component['table']\n",
    "\n",
    "plt.figure(figsize=figsize)\n",
    "plt.title(name)\n",
    "plt.xlabel('RPU (consistent over all distributions)')\n",
    "\n",
    "# Show some distributions\n",
    "d = measurements[0]\n",
    "plt.plot(d['bin'], d['output'], 'ro-', label=d['x'])\n",
    "\n",
    "middle = int( len(measurements) / 2 )\n",
    "d = measurements[middle]\n",
    "plt.plot(d['bin'], d['output'], 'go-', label=d['x'])\n",
    "\n",
    "d = measurements[-1]\n",
    "plt.plot(d['bin'], d['output'], 'bo-', label=d['x'])\n",
    "\n",
    "plt.xlim([0,50])\n",
    "plt.legend()\n",
    "\n",
    "# Let's check if the last one was really a distribution\n",
    "print('Checking if distribution: this should be 1')\n",
    "print(sum(d['output']))"
   ]
  },
  {
   "cell_type": "markdown",
   "id": "170a5e69",
   "metadata": {},
   "source": [
    "## The simplified input-output behavior\n",
    "\n",
    "Using what we learned in Lecture 3, we plot the steady state input-output function of the `NOR` gate."
   ]
  },
  {
   "cell_type": "code",
   "execution_count": 62,
   "id": "f94c4228",
   "metadata": {},
   "outputs": [],
   "source": [
    "# Regulation functions\n",
    "def nor(x, y):\n",
    "    inputs = x + y  # linear input combination\n",
    "    params = {}\n",
    "    for p in model['parameters']:\n",
    "        params[p['name']] = np.float64(p['value'])\n",
    "        print(f\"{p['name']}: {p['value']}\")\n",
    "    \n",
    "    # using linear input combination\n",
    "    Hill_equation = params['ymin'] + (params['ymax'] - params['ymin']) / (1.0 + (inputs / params['K'])**params['n'])                          \n",
    "    \n",
    "    # uncomment to use the one from Lecture 3\n",
    "    # Hill_equation = params['ymin'] + (params['ymax'] - params['ymin']) / \\\n",
    "    #     ( (1.0 + (x / params['K'])**params['n']) * (1.0 + (y / params['K'])**params['n']) )                      \n",
    "\n",
    "    return Hill_equation"
   ]
  },
  {
   "cell_type": "code",
   "execution_count": 63,
   "id": "abb4206e",
   "metadata": {},
   "outputs": [
    {
     "name": "stdout",
     "output_type": "stream",
     "text": [
      "ymax: 2.1\n",
      "ymin: 0.004\n",
      "K: 0.06\n",
      "n: 2.8\n",
      "alpha: 0.3337025658634261\n",
      "beta: 0.09255808434135396\n"
     ]
    },
    {
     "data": {
      "image/png": "[encoded data removed]",
      "text/plain": [
       "<Figure size 432x288 with 2 Axes>"
      ]
     },
     "metadata": {
      "needs_background": "light"
     },
     "output_type": "display_data"
    }
   ],
   "source": [
    "# this is just copied from Lecture 3\n",
    "def contour_fun(x, y, z, title=None):\n",
    "    \"\"\"\n",
    "    Make a filled contour plot given x, y, z\n",
    "    in 2D arrays.\n",
    "    \"\"\"\n",
    "    plt.figure()\n",
    "    CS = plt.contourf(x, y, z)\n",
    "    cbar = plt.colorbar(CS)\n",
    "    if title is not None:\n",
    "        plt.title(title)\n",
    "\n",
    "# Get x and y values for plotting\n",
    "x = np.linspace(0, 0.1, 200)\n",
    "y = np.linspace(0, 0.1, 200)\n",
    "xx, yy = np.meshgrid(x, y)\n",
    "\n",
    "# plot it\n",
    "contour_fun(xx, yy,\n",
    "            nor(xx, yy),\n",
    "            title=f\"{gate_name} gate\")"
   ]
  },
  {
   "cell_type": "markdown",
   "id": "9beae5b9",
   "metadata": {},
   "source": [
    "## Model based on experimental data\n",
    "\n",
    "To simplify this undertaking, we only model the expected input-output behavior."
   ]
  },
  {
   "cell_type": "code",
   "execution_count": 65,
   "id": "e2b6a586",
   "metadata": {},
   "outputs": [
    {
     "data": {
      "text/plain": [
       "[<matplotlib.lines.Line2D at 0x7f9e2bf2cac0>]"
      ]
     },
     "execution_count": 65,
     "metadata": {},
     "output_type": "execute_result"
    },
    {
     "data": {
      "image/png": "[encoded data removed]",
      "text/plain": [
       "<Figure size 432x324 with 1 Axes>"
      ]
     },
     "metadata": {
      "needs_background": "light"
     },
     "output_type": "display_data"
    },
    {
     "data": {
      "image/png": "[encoded data removed]",
      "text/plain": [
       "<Figure size 432x324 with 1 Axes>"
      ]
     },
     "metadata": {
      "needs_background": "light"
     },
     "output_type": "display_data"
    }
   ],
   "source": [
    "# compute the mean\n",
    "x = []\n",
    "y = []\n",
    "for d in measurements:\n",
    "    x += [ d['x'] ]\n",
    "    y += [ np.average(d['bin'], weights=d['output']) ]\n",
    "    \n",
    "plt.figure(figsize=figsize)\n",
    "plt.loglog(x,y,'o-')\n",
    "\n",
    "# let's create a function from it that we can use\n",
    "# we go for linear interpolation\n",
    "# and enable extrapolation to be able to use it for values\n",
    "# outside of the given data range\n",
    "Hill_measured = interp1d(x,y, fill_value='extrapolate')\n",
    "\n",
    "# and show it\n",
    "plt.figure(figsize=figsize)\n",
    "x_new = np.linspace(0,2,100)\n",
    "plt.loglog(x_new, Hill_measured(x_new), 'g-')\n",
    "plt.loglog(x, y, 'o')"
   ]
  },
  {
   "cell_type": "markdown",
   "id": "a470e1b4",
   "metadata": {},
   "source": [
    "We are now ready to use it as a `NOR` model.\n",
    "Mind that we do not have experimental data on the individual inputs, so we go for the linear combination as proposed in the Cello v2 model of the `NOR`."
   ]
  },
  {
   "cell_type": "code",
   "execution_count": 54,
   "id": "e6dae1a8",
   "metadata": {},
   "outputs": [
    {
     "name": "stdout",
     "output_type": "stream",
     "text": [
      "ymax: 4.3\n",
      "ymin: 0.07\n",
      "K: 0.05\n",
      "n: 1.7\n",
      "alpha: 0.3748404992150903\n",
      "beta: 0.43564010137683185\n"
     ]
    },
    {
     "data": {
      "image/png": "[encoded data removed]",
      "text/plain": [
       "<Figure size 432x288 with 2 Axes>"
      ]
     },
     "metadata": {
      "needs_background": "light"
     },
     "output_type": "display_data"
    },
    {
     "data": {
      "image/png": "[encoded data removed]",
      "text/plain": [
       "<Figure size 432x288 with 2 Axes>"
      ]
     },
     "metadata": {
      "needs_background": "light"
     },
     "output_type": "display_data"
    }
   ],
   "source": [
    "def nor_experimental(x, y):\n",
    "    inputs = x + y  # linear input combination\n",
    "    \n",
    "    # using linear input combination\n",
    "    Hill_equation = Hill_measured(inputs)                                              \n",
    "\n",
    "    return Hill_equation\n",
    "\n",
    "# Get x and y values for plotting\n",
    "x = np.linspace(0, 0.1, 200)\n",
    "y = np.linspace(0, 0.1, 200)\n",
    "xx, yy = np.meshgrid(x, y)\n",
    "\n",
    "# plot it\n",
    "contour_fun(xx, yy,\n",
    "            nor_experimental(xx, yy),\n",
    "            title=f\"{gate_name} gate (experimental) with linear input combination\")\n",
    "contour_fun(xx, yy,\n",
    "            nor(xx, yy),\n",
    "            title=f\"{gate_name} gate (Hill model) with linear input combination\")"
   ]
  },
  {
   "cell_type": "markdown",
   "id": "456c0abc",
   "metadata": {},
   "source": [
    "# Tasks\n",
    "\n",
    "1. Plot all deterministic Hill functions for all `NOR` gates in log-log plots and discuss what you see.\n",
    "   You can plot them for a single input value and not two.\n",
    "\n",
    "2. Propagate determinsitic input-output values from inputs to an output.\n",
    "   Write a function that allows us to call `progagate(circuit,i)`\n",
    "   where `circuit` is a linear circuit of `NOR` gates but with a single input (`INV` gates).\n",
    "   The circuit may, e.g., be a `list` of `str` with `NOR` names.\n",
    "   Argument `i` is an input value in RPUs.\n",
    "   The output of the function is the output of the circuit in RPUs.\n",
    "   \n",
    "3. Do the same (1. and 2.), but with distributions as the output based on the measurements in the UCFs.\n",
    "   For 1', you can take a look at `seaborn.violinplot`.\n",
    "   \n",
    "4. Write a compiler that, given a length of the `INV` chain, returns a \"good\" circuit (in the above sense).\n",
    "   Explain what you chose as a criterion for \"good\" and why."
   ]
  },
  {
   "cell_type": "code",
   "execution_count": null,
   "id": "befb443d",
   "metadata": {},
   "outputs": [],
   "source": []
  }
 ],
 "metadata": {
  "kernelspec": {
   "display_name": "Python 3",
   "language": "python",
   "name": "python3"
  },
  "language_info": {
   "codemirror_mode": {
    "name": "ipython",
    "version": 3
   },
   "file_extension": ".py",
   "mimetype": "text/x-python",
   "name": "python",
   "nbconvert_exporter": "python",
   "pygments_lexer": "ipython3",
   "version": "3.8.8"
  }
 },
 "nbformat": 4,
 "nbformat_minor": 5
}
